{
  "nbformat": 4,
  "nbformat_minor": 0,
  "metadata": {
    "colab": {
      "name": "NLP_project3.ipynb",
      "provenance": [],
      "collapsed_sections": []
    },
    "kernelspec": {
      "name": "python3",
      "display_name": "Python 3"
    },
    "language_info": {
      "name": "python"
    }
  },
  "cells": [
    {
      "cell_type": "code",
      "execution_count": null,
      "metadata": {
        "colab": {
          "base_uri": "https://localhost:8080/"
        },
        "id": "ZVXA_T9llim-",
        "outputId": "bc9938f1-7643-4c77-f94f-1b7b6201e60d"
      },
      "outputs": [
        {
          "output_type": "stream",
          "name": "stdout",
          "text": [
            "[nltk_data] Downloading package senseval to /root/nltk_data...\n",
            "[nltk_data]   Package senseval is already up-to-date!\n"
          ]
        }
      ],
      "source": [
        "import nltk\n",
        "import random\n",
        "nltk.download('senseval')\n",
        "from nltk.corpus import senseval"
      ]
    },
    {
      "cell_type": "code",
      "source": [
        "def senses_func(word):\n",
        "    \"\"\"\n",
        "    This takes a target word from senseval-2 (find out what the possible\n",
        "    are by running senseval.fileides()), and it returns the list of possible \n",
        "    senses for the word\n",
        "    \"\"\"\n",
        "    return list(set(i.senses[0] for i in senseval.instances(word)))"
      ],
      "metadata": {
        "id": "jYQvF_zGwSum"
      },
      "execution_count": null,
      "outputs": []
    },
    {
      "cell_type": "code",
      "source": [
        "from collections import defaultdict\n",
        "from nltk.classify import accuracy\n",
        "nltk.download('stopwords')\n",
        "stop_words = nltk.corpus.stopwords.words('english')"
      ],
      "metadata": {
        "colab": {
          "base_uri": "https://localhost:8080/"
        },
        "id": "i2hAQR5bwzKL",
        "outputId": "b512e135-f0fe-472e-e108-58ee06c8194b"
      },
      "execution_count": null,
      "outputs": [
        {
          "output_type": "stream",
          "name": "stdout",
          "text": [
            "[nltk_data] Downloading package stopwords to /root/nltk_data...\n",
            "[nltk_data]   Package stopwords is already up-to-date!\n"
          ]
        }
      ]
    },
    {
      "cell_type": "code",
      "source": [
        "import string"
      ],
      "metadata": {
        "id": "3A4mfQsB0p5E"
      },
      "execution_count": null,
      "outputs": []
    },
    {
      "cell_type": "code",
      "source": [
        "# Some helper functions we'll need to train our model\n",
        "\n",
        "def extract_vocab_frequency(instances, target, stop_words=stop_words, vocab_size=300):\n",
        "    \"\"\"\n",
        "    Given a list of senseval instances, return a list of the n most frequent words that\n",
        "    appears in its context (i.e., the sentence with the target word in), output is in order\n",
        "    of frequency and includes also the number of instances in which that key appears in the\n",
        "    context of instances.\n",
        "    \"\"\"\n",
        "    fd = nltk.FreqDist()\n",
        "    #print(fd)\n",
        "    for i in instances:\n",
        "        (target, suffix) = i.word.split('-')               #suffix = pos, target = target word\n",
        "        words = (c[0] for c in i.context if not c[0] == target)\n",
        "        for word in (set(words) - set(stop_words)) - set(string.punctuation):\n",
        "            fd[word] += 1\n",
        "    #print(fd)\n",
        "    return fd.most_common()[:vocab_size+1]"
      ],
      "metadata": {
        "id": "tQC9MH88xH7o"
      },
      "execution_count": null,
      "outputs": []
    },
    {
      "cell_type": "code",
      "source": [
        "def extract_vocab(instances, target, stop_words=stop_words, vocab_size=300):\n",
        "    return [w for w, f in extract_vocab_frequency(instances,target,stop_words,vocab_size)]"
      ],
      "metadata": {
        "id": "-ZWYEDRdx1pp"
      },
      "execution_count": null,
      "outputs": []
    },
    {
      "cell_type": "code",
      "source": [
        "# Feature extraction\n",
        "\n",
        "def wsd_context_features(instance, window_size=3):\n",
        "    features = {}\n",
        "    ind = instance.position\n",
        "    con = instance.context\n",
        "    for i in range(max(0, ind-window_size), ind):\n",
        "        j = ind-i\n",
        "        features[con[i][0]] = True\n",
        "\n",
        "    for i in range(ind+1, min(ind+window_size+1, len(con))):\n",
        "        j = i-ind\n",
        "        features[con[i][0]] = True\n",
        "\n",
        "    return features"
      ],
      "metadata": {
        "id": "GnAitQ7FyfDv"
      },
      "execution_count": null,
      "outputs": []
    },
    {
      "cell_type": "code",
      "source": [
        "def wsd_word_features(instance, vocab):\n",
        "    \"\"\"\n",
        "    Create a feature set where every key returns False unless it occurs in the\n",
        "    instance's context\n",
        "    \"\"\"\n",
        "    features = defaultdict(lambda:False)\n",
        "    #features['alwayson'] = True\n",
        "    #cur_words = [w for (w, pos) in i.context]\n",
        "    try:\n",
        "      # \n",
        "        for (w, pos) in instance.context:\n",
        "            if w in vocab:                            #vocab == most frequent words\n",
        "                features[w] = True\n",
        "    except ValueError:\n",
        "        pass\n",
        "    return features"
      ],
      "metadata": {
        "id": "mp8pA45Iyipl"
      },
      "execution_count": null,
      "outputs": []
    },
    {
      "cell_type": "code",
      "source": [
        "def sense_instances(instances, sense):\n",
        "    \"\"\"\n",
        "    This returns the list of instances in instances that have the same sense\n",
        "    \"\"\"\n",
        "    return [instance for instance in instances if instance.senses[0]==sense]"
      ],
      "metadata": {
        "id": "-THQcwpK2UJ5"
      },
      "execution_count": null,
      "outputs": []
    },
    {
      "cell_type": "code",
      "source": [
        "def theta_k(train_corpus, context, sense, vocab, window_size):\n",
        "  instances = sense_instances(train_corpus, sense)\n",
        "  features = wsd_context_features(context, window_size=window_size)\n",
        "\n",
        "  nr_occ = []\n",
        "  for feature in features.keys():\n",
        "    nr_occ_single_f = 0\n",
        "    for instance in instances:\n",
        "      context = instance.context\n",
        "      for tuple_ in context:\n",
        "        if len(tuple_) == 2 and tuple_[0] == feature:\n",
        "          nr_occ_single_f += 1\n",
        "    nr_occ.append(nr_occ_single_f)\n",
        "\n",
        "  nr_occ_total = np.sum(nr_occ)\n",
        "\n",
        "  nr_occ = np.array(nr_occ) / nr_occ_total  \n",
        "\n",
        "  return np.prod(nr_occ)"
      ],
      "metadata": {
        "id": "bMd8OCysXKbU"
      },
      "execution_count": null,
      "outputs": []
    },
    {
      "cell_type": "code",
      "source": [
        "def alpha_k(corpus, target_word, sense):\n",
        "  nr_occ_sense = 0\n",
        "  nr_occ_w = 0\n",
        "  for instance in corpus:\n",
        "    if instance.senses[0] == sense:\n",
        "      nr_occ_sense += 1\n",
        "  return nr_occ_sense/len(corpus)"
      ],
      "metadata": {
        "id": "uNGrL1N5r8c6"
      },
      "execution_count": null,
      "outputs": []
    },
    {
      "cell_type": "code",
      "source": [
        "import numpy as np"
      ],
      "metadata": {
        "id": "zRP5n3NYYobB"
      },
      "execution_count": null,
      "outputs": []
    },
    {
      "cell_type": "code",
      "source": [
        "_inst_cache = {}"
      ],
      "metadata": {
        "id": "E7lLu0xGzY3I"
      },
      "execution_count": null,
      "outputs": []
    },
    {
      "cell_type": "code",
      "source": [
        "def extract_data(target_word, stop_words=stop_words, vocab_size=300):\n",
        "  corpus = senseval.instances(target_word+\".pos\")\n",
        "  senses = senses_func(target_word+\".pos\")\n",
        "  vocab = extract_vocab(corpus, target_word, stop_words=stop_words, vocab_size=vocab_size)   #most frequent words in the context\n",
        "  return corpus, senses, vocab"
      ],
      "metadata": {
        "id": "-B-c5FUIVmAk"
      },
      "execution_count": null,
      "outputs": []
    },
    {
      "cell_type": "code",
      "source": [
        "def data_split(target_word):\n",
        "    print(\"Reading data...\")\n",
        "    global _inst_cache\n",
        "\n",
        "    if target_word not in _inst_cache:\n",
        "        _inst_cache[target_word] = [(i, i.senses[0]) for i in senseval.instances(target_word+\".pos\")]\n",
        "    events = _inst_cache[target_word][:]\n",
        "\n",
        "    # Split the instances into a training and test set\n",
        "    n = len(events)\n",
        "    random.seed(334)\n",
        "    random.shuffle(events)\n",
        "    training_data = events[:int(0.5 * n)]\n",
        "    print(\"Training data size: \", len(training_data))\n",
        "    validation_data = events[int(0.5 * n):int(0.85 * n)]\n",
        "    print(\"Validation data size: \", len(validation_data))\n",
        "    test_data = events[int(0.85 * n):n]\n",
        "    print(\"Test data size: \", len(test_data))\n",
        "\n",
        "    return training_data, validation_data, test_data"
      ],
      "metadata": {
        "id": "0UeaIvVkytvU"
      },
      "execution_count": null,
      "outputs": []
    },
    {
      "cell_type": "code",
      "source": [
        "def wsd_classifier(corpus, target_word, senses, vocab, data, window_size, example_errors=False):\n",
        "    #probabilities of each sense in the corpus:\n",
        "    prob_senses = []\n",
        "    for sense in senses:\n",
        "      prob_sense = alpha_k(corpus, target_word, sense)\n",
        "      prob_senses.append(prob_sense)\n",
        "\n",
        "    \n",
        "    probs = []\n",
        "    for i in range(len(data)):\n",
        "      probs_aux = []\n",
        "      for j, sense in enumerate(senses):\n",
        "        theta = theta_k(list(zip(*data))[0], data[i][0], sense, vocab, window_size=window_size)\n",
        "        probs_aux.append(np.log(prob_senses[j]*theta))\n",
        "      probs.append(probs_aux)\n",
        "\n",
        "    predictions = []\n",
        "    for probs_aux in probs:\n",
        "      predictions.append(np.argmax(probs_aux))\n",
        "\n",
        "    \n",
        "    #Accuracy:\n",
        "    correct = 0\n",
        "    for i, pred in enumerate(predictions):\n",
        "      if pred == senses.index(data[i][1]):\n",
        "        correct += 1\n",
        "\n",
        "    accuracy = correct / len(predictions) \n",
        "\n",
        "    print(\"Accuracy: {}\".format(accuracy))\n",
        "    \n",
        "    gold = [data[i][1] for i in range(len(data))]\n",
        "    derived = [senses[j] for j in predictions]\n",
        "    cm = nltk.ConfusionMatrix(gold, derived)\n",
        "    print(cm) \n",
        "\n",
        "    k = 0\n",
        "    if example_errors:\n",
        "      for i, der in enumerate(derived):\n",
        "        if k < 5:\n",
        "          if der != data[i][1]:\n",
        "            print(\"Context: {}\".format(data[i][0].context))\n",
        "            print(\"Correct sense: {}\".format(data[i][1]))\n",
        "            print(\"Predicted sense: {}\".format(derived[i]))\n",
        "            print(\"\\n\")\n",
        "            k += 1\n",
        "        else:\n",
        "          break\n",
        "    return accuracy  "
      ],
      "metadata": {
        "id": "R_DsgV20OiVR"
      },
      "execution_count": null,
      "outputs": []
    },
    {
      "cell_type": "code",
      "source": [
        "def test_words(target_word, stage, vocab_size, window_size, example_errors=False):\n",
        "  train_data, validation_data, test_data = data_split(target_word)\n",
        "  corpus, senses, vocab = extract_data(target_word, vocab_size=vocab_size)\n",
        "\n",
        "  if stage == \"train\":\n",
        "    wsd_classifier(corpus, target_word, senses, vocab, train_data, window_size, example_errors)\n",
        "  elif stage == \"validation\":\n",
        "    wsd_classifier(corpus, target_word, senses, vocab, validation_data, window_size, example_errors)\n",
        "  else:\n",
        "    wsd_classifier(corpus, target_word, senses, vocab, test_data, window_size, example_errors=True)"
      ],
      "metadata": {
        "id": "MfWA-nCJ9gGz"
      },
      "execution_count": null,
      "outputs": []
    },
    {
      "cell_type": "markdown",
      "source": [
        "Experimenting with window size and vocabulary size:"
      ],
      "metadata": {
        "id": "JHQO8urdQhT7"
      }
    },
    {
      "cell_type": "code",
      "source": [
        "test_words(\"line\", \"validation\", vocab_size=300, window_size=3)"
      ],
      "metadata": {
        "colab": {
          "base_uri": "https://localhost:8080/"
        },
        "id": "j4wH_h2Z_j75",
        "outputId": "2af39779-3d97-4178-cb99-c6f5e93806e8"
      },
      "execution_count": null,
      "outputs": [
        {
          "output_type": "stream",
          "name": "stdout",
          "text": [
            "Reading data...\n",
            "Training data size:  2073\n",
            "Validation data size:  1451\n",
            "Test data size:  622\n"
          ]
        },
        {
          "output_type": "stream",
          "name": "stderr",
          "text": [
            "/usr/local/lib/python3.7/dist-packages/ipykernel_launcher.py:14: RuntimeWarning: divide by zero encountered in log\n",
            "  \n"
          ]
        },
        {
          "output_type": "stream",
          "name": "stdout",
          "text": [
            "Accuracy: 0.9131633356305996\n",
            "          |           f             |\n",
            "          |       d   o             |\n",
            "          |       i   r       p     |\n",
            "          |       v   m       r     |\n",
            "          |       i   a   p   o     |\n",
            "          |   c   s   t   h   d   t |\n",
            "          |   o   i   i   o   u   e |\n",
            "          |   r   o   o   n   c   x |\n",
            "          |   d   n   n   e   t   t |\n",
            "----------+-------------------------+\n",
            "     cord |<118>  .   .   1   9   1 |\n",
            " division |   1<125>  .   .   1   . |\n",
            "formation |   1   2 <97>  5   6   3 |\n",
            "    phone |   4   1   2<116> 18   5 |\n",
            "  product |   2   3  23   5<752>  6 |\n",
            "     text |   1   .   3   3  20<117>|\n",
            "----------+-------------------------+\n",
            "(row = reference; col = test)\n",
            "\n"
          ]
        }
      ]
    },
    {
      "cell_type": "code",
      "source": [
        "test_words(\"line\", \"validation\", vocab_size=300, window_size=7)"
      ],
      "metadata": {
        "colab": {
          "base_uri": "https://localhost:8080/"
        },
        "id": "dQIZFRTMQeza",
        "outputId": "c6dd271a-5730-4a3d-d58e-ec29a04b9255"
      },
      "execution_count": null,
      "outputs": [
        {
          "output_type": "stream",
          "name": "stdout",
          "text": [
            "Reading data...\n",
            "Training data size:  2073\n",
            "Validation data size:  1451\n",
            "Test data size:  622\n"
          ]
        },
        {
          "output_type": "stream",
          "name": "stderr",
          "text": [
            "/usr/local/lib/python3.7/dist-packages/ipykernel_launcher.py:14: RuntimeWarning: divide by zero encountered in log\n",
            "  \n"
          ]
        },
        {
          "output_type": "stream",
          "name": "stdout",
          "text": [
            "Accuracy: 0.9703652653342523\n",
            "          |           f             |\n",
            "          |       d   o             |\n",
            "          |       i   r       p     |\n",
            "          |       v   m       r     |\n",
            "          |       i   a   p   o     |\n",
            "          |   c   s   t   h   d   t |\n",
            "          |   o   i   i   o   u   e |\n",
            "          |   r   o   o   n   c   x |\n",
            "          |   d   n   n   e   t   t |\n",
            "----------+-------------------------+\n",
            "     cord |<129>  .   .   .   .   . |\n",
            " division |   .<126>  1   .   .   . |\n",
            "formation |   .   1<113>  .   .   . |\n",
            "    phone |   1   .   .<141>  1   3 |\n",
            "  product |   .   1  29   2<758>  1 |\n",
            "     text |   .   2   .   .   1<141>|\n",
            "----------+-------------------------+\n",
            "(row = reference; col = test)\n",
            "\n"
          ]
        }
      ]
    },
    {
      "cell_type": "code",
      "source": [
        "test_words(\"line\", \"validation\", vocab_size=300, window_size=10)"
      ],
      "metadata": {
        "colab": {
          "base_uri": "https://localhost:8080/"
        },
        "id": "1w7OJgL1R89s",
        "outputId": "05694c0d-7a69-424b-bfa8-d3ddb81d6be1"
      },
      "execution_count": null,
      "outputs": [
        {
          "output_type": "stream",
          "name": "stdout",
          "text": [
            "Reading data...\n",
            "Training data size:  2073\n",
            "Validation data size:  1451\n",
            "Test data size:  622\n"
          ]
        },
        {
          "output_type": "stream",
          "name": "stderr",
          "text": [
            "/usr/local/lib/python3.7/dist-packages/ipykernel_launcher.py:14: RuntimeWarning: divide by zero encountered in log\n",
            "  \n"
          ]
        },
        {
          "output_type": "stream",
          "name": "stdout",
          "text": [
            "Accuracy: 0.9710544452101999\n",
            "          |           f             |\n",
            "          |       d   o             |\n",
            "          |       i   r       p     |\n",
            "          |       v   m       r     |\n",
            "          |       i   a   p   o     |\n",
            "          |   c   s   t   h   d   t |\n",
            "          |   o   i   i   o   u   e |\n",
            "          |   r   o   o   n   c   x |\n",
            "          |   d   n   n   e   t   t |\n",
            "----------+-------------------------+\n",
            "     cord |<129>  .   .   .   .   . |\n",
            " division |   .<126>  1   .   .   . |\n",
            "formation |   .   .<114>  .   .   . |\n",
            "    phone |   1   .   1<143>  .   1 |\n",
            "  product |   .   1  35   1<754>  . |\n",
            "     text |   .   .   .   .   1<143>|\n",
            "----------+-------------------------+\n",
            "(row = reference; col = test)\n",
            "\n"
          ]
        }
      ]
    },
    {
      "cell_type": "code",
      "source": [
        "test_words(\"line\", \"validation\", vocab_size=250, window_size=10)"
      ],
      "metadata": {
        "colab": {
          "base_uri": "https://localhost:8080/"
        },
        "id": "1A-gjCULTgiS",
        "outputId": "95faafc7-c1fd-4568-add1-f702bc404cb1"
      },
      "execution_count": null,
      "outputs": [
        {
          "output_type": "stream",
          "name": "stdout",
          "text": [
            "Reading data...\n",
            "Training data size:  2073\n",
            "Validation data size:  1451\n",
            "Test data size:  622\n"
          ]
        },
        {
          "output_type": "stream",
          "name": "stderr",
          "text": [
            "/usr/local/lib/python3.7/dist-packages/ipykernel_launcher.py:14: RuntimeWarning: divide by zero encountered in log\n",
            "  \n"
          ]
        },
        {
          "output_type": "stream",
          "name": "stdout",
          "text": [
            "Accuracy: 0.9710544452101999\n",
            "          |           f             |\n",
            "          |       d   o             |\n",
            "          |       i   r       p     |\n",
            "          |       v   m       r     |\n",
            "          |       i   a   p   o     |\n",
            "          |   c   s   t   h   d   t |\n",
            "          |   o   i   i   o   u   e |\n",
            "          |   r   o   o   n   c   x |\n",
            "          |   d   n   n   e   t   t |\n",
            "----------+-------------------------+\n",
            "     cord |<129>  .   .   .   .   . |\n",
            " division |   .<126>  1   .   .   . |\n",
            "formation |   .   .<114>  .   .   . |\n",
            "    phone |   1   .   1<143>  .   1 |\n",
            "  product |   .   1  35   1<754>  . |\n",
            "     text |   .   .   .   .   1<143>|\n",
            "----------+-------------------------+\n",
            "(row = reference; col = test)\n",
            "\n"
          ]
        }
      ]
    },
    {
      "cell_type": "code",
      "source": [
        "test_words(\"hard\", \"validation\", vocab_size=300, window_size=3)"
      ],
      "metadata": {
        "colab": {
          "base_uri": "https://localhost:8080/"
        },
        "id": "YFctk-mi_6lT",
        "outputId": "3793e1a3-12db-450c-e48b-6691ffdb7a09"
      },
      "execution_count": null,
      "outputs": [
        {
          "output_type": "stream",
          "name": "stdout",
          "text": [
            "Reading data...\n",
            "Training data size:  2166\n",
            "Validation data size:  1517\n",
            "Test data size:  650\n"
          ]
        },
        {
          "output_type": "stream",
          "name": "stderr",
          "text": [
            "/usr/local/lib/python3.7/dist-packages/ipykernel_launcher.py:14: RuntimeWarning: divide by zero encountered in log\n",
            "  \n"
          ]
        },
        {
          "output_type": "stream",
          "name": "stdout",
          "text": [
            "Accuracy: 0.930784442979565\n",
            "      |    H    H    H |\n",
            "      |    A    A    A |\n",
            "      |    R    R    R |\n",
            "      |    D    D    D |\n",
            "      |    1    2    3 |\n",
            "------+----------------+\n",
            "HARD1 |<1149>  45   27 |\n",
            "HARD2 |   27 <140>   . |\n",
            "HARD3 |    6    . <123>|\n",
            "------+----------------+\n",
            "(row = reference; col = test)\n",
            "\n"
          ]
        }
      ]
    },
    {
      "cell_type": "code",
      "source": [
        "test_words(\"hard\", \"validation\", vocab_size=300, window_size=7)"
      ],
      "metadata": {
        "colab": {
          "base_uri": "https://localhost:8080/"
        },
        "id": "pvMxotMCVTFv",
        "outputId": "cee7eb8d-c41f-4626-93f2-14bc0212fcd7"
      },
      "execution_count": null,
      "outputs": [
        {
          "output_type": "stream",
          "name": "stdout",
          "text": [
            "Reading data...\n",
            "Training data size:  2166\n",
            "Validation data size:  1517\n",
            "Test data size:  650\n"
          ]
        },
        {
          "output_type": "stream",
          "name": "stderr",
          "text": [
            "/usr/local/lib/python3.7/dist-packages/ipykernel_launcher.py:14: RuntimeWarning: divide by zero encountered in log\n",
            "  \n"
          ]
        },
        {
          "output_type": "stream",
          "name": "stdout",
          "text": [
            "Accuracy: 0.977587343441002\n",
            "      |    H    H    H |\n",
            "      |    A    A    A |\n",
            "      |    R    R    R |\n",
            "      |    D    D    D |\n",
            "      |    1    2    3 |\n",
            "------+----------------+\n",
            "HARD1 |<1194>  20    7 |\n",
            "HARD2 |    6 <161>   . |\n",
            "HARD3 |    1    . <128>|\n",
            "------+----------------+\n",
            "(row = reference; col = test)\n",
            "\n"
          ]
        }
      ]
    },
    {
      "cell_type": "code",
      "source": [
        "test_words(\"hard\", \"validation\", vocab_size=300, window_size=13)"
      ],
      "metadata": {
        "colab": {
          "base_uri": "https://localhost:8080/"
        },
        "id": "Mid8zvK7WT0R",
        "outputId": "c81813b6-41a9-4be8-cd56-7e94ccc90be6"
      },
      "execution_count": null,
      "outputs": [
        {
          "output_type": "stream",
          "name": "stdout",
          "text": [
            "Reading data...\n",
            "Training data size:  2166\n",
            "Validation data size:  1517\n",
            "Test data size:  650\n"
          ]
        },
        {
          "output_type": "stream",
          "name": "stderr",
          "text": [
            "/usr/local/lib/python3.7/dist-packages/ipykernel_launcher.py:14: RuntimeWarning: divide by zero encountered in log\n",
            "  \n"
          ]
        },
        {
          "output_type": "stream",
          "name": "stdout",
          "text": [
            "Accuracy: 0.995385629531971\n",
            "      |    H    H    H |\n",
            "      |    A    A    A |\n",
            "      |    R    R    R |\n",
            "      |    D    D    D |\n",
            "      |    1    2    3 |\n",
            "------+----------------+\n",
            "HARD1 |<1216>   5    . |\n",
            "HARD2 |    1 <166>   . |\n",
            "HARD3 |    1    . <128>|\n",
            "------+----------------+\n",
            "(row = reference; col = test)\n",
            "\n"
          ]
        }
      ]
    },
    {
      "cell_type": "code",
      "source": [
        "test_words(\"serve\", \"validation\", vocab_size=300, window_size=3)"
      ],
      "metadata": {
        "colab": {
          "base_uri": "https://localhost:8080/"
        },
        "id": "XArGHAUvAG8V",
        "outputId": "361c3058-baf9-4f9a-db16-9dca318934e5"
      },
      "execution_count": null,
      "outputs": [
        {
          "output_type": "stream",
          "name": "stdout",
          "text": [
            "Reading data...\n",
            "Training data size:  2189\n",
            "Validation data size:  1532\n",
            "Test data size:  657\n"
          ]
        },
        {
          "output_type": "stream",
          "name": "stderr",
          "text": [
            "/usr/local/lib/python3.7/dist-packages/ipykernel_launcher.py:14: RuntimeWarning: divide by zero encountered in log\n",
            "  \n"
          ]
        },
        {
          "output_type": "stream",
          "name": "stdout",
          "text": [
            "Accuracy: 0.9445169712793734\n",
            "        |   S   S         |\n",
            "        |   E   E   S   S |\n",
            "        |   R   R   E   E |\n",
            "        |   V   V   R   R |\n",
            "        |   E   E   V   V |\n",
            "        |   1   1   E   E |\n",
            "        |   0   2   2   6 |\n",
            "--------+-----------------+\n",
            "SERVE10 |<611>  2  11   1 |\n",
            "SERVE12 |  12<432> 14   5 |\n",
            " SERVE2 |  14   7<263>  1 |\n",
            " SERVE6 |   3   8   7<141>|\n",
            "--------+-----------------+\n",
            "(row = reference; col = test)\n",
            "\n"
          ]
        }
      ]
    },
    {
      "cell_type": "code",
      "source": [
        "test_words(\"serve\", \"validation\", vocab_size=300, window_size=7)"
      ],
      "metadata": {
        "colab": {
          "base_uri": "https://localhost:8080/"
        },
        "id": "ZoPiWYCPXkLo",
        "outputId": "4f08783c-b850-454d-cf66-c0506cef1ac6"
      },
      "execution_count": null,
      "outputs": [
        {
          "output_type": "stream",
          "name": "stdout",
          "text": [
            "Reading data...\n",
            "Training data size:  2189\n",
            "Validation data size:  1532\n",
            "Test data size:  657\n"
          ]
        },
        {
          "output_type": "stream",
          "name": "stderr",
          "text": [
            "/usr/local/lib/python3.7/dist-packages/ipykernel_launcher.py:14: RuntimeWarning: divide by zero encountered in log\n",
            "  \n"
          ]
        },
        {
          "output_type": "stream",
          "name": "stdout",
          "text": [
            "Accuracy: 0.9849869451697127\n",
            "        |   S   S         |\n",
            "        |   E   E   S   S |\n",
            "        |   R   R   E   E |\n",
            "        |   V   V   R   R |\n",
            "        |   E   E   V   V |\n",
            "        |   1   1   E   E |\n",
            "        |   0   2   2   6 |\n",
            "--------+-----------------+\n",
            "SERVE10 |<617>  .   8   . |\n",
            "SERVE12 |   2<453>  6   2 |\n",
            " SERVE2 |   1   .<284>  . |\n",
            " SERVE6 |   .   .   4<155>|\n",
            "--------+-----------------+\n",
            "(row = reference; col = test)\n",
            "\n"
          ]
        }
      ]
    },
    {
      "cell_type": "code",
      "source": [
        "test_words(\"interest\", \"validation\", vocab_size=300, window_size=3)"
      ],
      "metadata": {
        "colab": {
          "base_uri": "https://localhost:8080/"
        },
        "id": "sCplzAXtAiGA",
        "outputId": "0020deaf-584f-4578-8983-796977e96e38"
      },
      "execution_count": null,
      "outputs": [
        {
          "output_type": "stream",
          "name": "stdout",
          "text": [
            "Reading data...\n",
            "Training data size:  1184\n",
            "Validation data size:  828\n",
            "Test data size:  356\n"
          ]
        },
        {
          "output_type": "stream",
          "name": "stderr",
          "text": [
            "/usr/local/lib/python3.7/dist-packages/ipykernel_launcher.py:14: RuntimeWarning: divide by zero encountered in log\n",
            "  \n",
            "/usr/local/lib/python3.7/dist-packages/ipykernel_launcher.py:17: RuntimeWarning: invalid value encountered in true_divide\n"
          ]
        },
        {
          "output_type": "stream",
          "name": "stdout",
          "text": [
            "Accuracy: 0.9118357487922706\n",
            "           |   i   i   i   i   i   i |\n",
            "           |   n   n   n   n   n   n |\n",
            "           |   t   t   t   t   t   t |\n",
            "           |   e   e   e   e   e   e |\n",
            "           |   r   r   r   r   r   r |\n",
            "           |   e   e   e   e   e   e |\n",
            "           |   s   s   s   s   s   s |\n",
            "           |   t   t   t   t   t   t |\n",
            "           |   _   _   _   _   _   _ |\n",
            "           |   1   2   3   4   5   6 |\n",
            "-----------+-------------------------+\n",
            "interest_1 |<110>  4   .   .   2   7 |\n",
            "interest_2 |   .  <4>  .   .   .   . |\n",
            "interest_3 |   .   2 <17>  1   .   . |\n",
            "interest_4 |   .   1   . <55>  .   2 |\n",
            "interest_5 |   3   1   .   1<155> 10 |\n",
            "interest_6 |   1  24   4   8   2<414>|\n",
            "-----------+-------------------------+\n",
            "(row = reference; col = test)\n",
            "\n"
          ]
        }
      ]
    },
    {
      "cell_type": "code",
      "source": [
        "test_words(\"interest\", \"validation\", vocab_size=300, window_size=7)"
      ],
      "metadata": {
        "colab": {
          "base_uri": "https://localhost:8080/"
        },
        "id": "bszhE1pvZP8c",
        "outputId": "415de30b-a584-4599-915e-60be6e6e3191"
      },
      "execution_count": null,
      "outputs": [
        {
          "output_type": "stream",
          "name": "stdout",
          "text": [
            "Reading data...\n",
            "Training data size:  1184\n",
            "Validation data size:  828\n",
            "Test data size:  356\n"
          ]
        },
        {
          "output_type": "stream",
          "name": "stderr",
          "text": [
            "/usr/local/lib/python3.7/dist-packages/ipykernel_launcher.py:14: RuntimeWarning: divide by zero encountered in log\n",
            "  \n",
            "/usr/local/lib/python3.7/dist-packages/ipykernel_launcher.py:17: RuntimeWarning: invalid value encountered in true_divide\n"
          ]
        },
        {
          "output_type": "stream",
          "name": "stdout",
          "text": [
            "Accuracy: 0.9927536231884058\n",
            "           |   i   i   i   i   i   i |\n",
            "           |   n   n   n   n   n   n |\n",
            "           |   t   t   t   t   t   t |\n",
            "           |   e   e   e   e   e   e |\n",
            "           |   r   r   r   r   r   r |\n",
            "           |   e   e   e   e   e   e |\n",
            "           |   s   s   s   s   s   s |\n",
            "           |   t   t   t   t   t   t |\n",
            "           |   _   _   _   _   _   _ |\n",
            "           |   1   2   3   4   5   6 |\n",
            "-----------+-------------------------+\n",
            "interest_1 |<123>  .   .   .   .   . |\n",
            "interest_2 |   .  <4>  .   .   .   . |\n",
            "interest_3 |   .   . <20>  .   .   . |\n",
            "interest_4 |   .   .   . <56>  .   2 |\n",
            "interest_5 |   .   .   .   .<169>  1 |\n",
            "interest_6 |   .   2   1   .   .<450>|\n",
            "-----------+-------------------------+\n",
            "(row = reference; col = test)\n",
            "\n"
          ]
        }
      ]
    },
    {
      "cell_type": "markdown",
      "source": [
        "Testing:"
      ],
      "metadata": {
        "id": "xkhCj_OxZsWX"
      }
    },
    {
      "cell_type": "code",
      "source": [
        "test_words(\"line\", \"test\", vocab_size=300, window_size=10)"
      ],
      "metadata": {
        "colab": {
          "base_uri": "https://localhost:8080/"
        },
        "id": "KLHrFkkdZuje",
        "outputId": "97d386bf-c0c6-4cf1-cd47-dac642346985"
      },
      "execution_count": null,
      "outputs": [
        {
          "output_type": "stream",
          "name": "stdout",
          "text": [
            "Reading data...\n",
            "Training data size:  2073\n",
            "Validation data size:  1451\n",
            "Test data size:  622\n"
          ]
        },
        {
          "output_type": "stream",
          "name": "stderr",
          "text": [
            "/usr/local/lib/python3.7/dist-packages/ipykernel_launcher.py:14: RuntimeWarning: divide by zero encountered in log\n",
            "  \n"
          ]
        },
        {
          "output_type": "stream",
          "name": "stdout",
          "text": [
            "Accuracy: 0.9678456591639871\n",
            "          |           f             |\n",
            "          |       d   o             |\n",
            "          |       i   r       p     |\n",
            "          |       v   m       r     |\n",
            "          |       i   a   p   o     |\n",
            "          |   c   s   t   h   d   t |\n",
            "          |   o   i   i   o   u   e |\n",
            "          |   r   o   o   n   c   x |\n",
            "          |   d   n   n   e   t   t |\n",
            "----------+-------------------------+\n",
            "     cord | <58>  .   .   .   .   . |\n",
            " division |   . <63>  .   .   .   . |\n",
            "formation |   .   . <57>  .   .   . |\n",
            "    phone |   1   .   1 <61>  .   . |\n",
            "  product |   .   1  17   .<314>  . |\n",
            "     text |   .   .   .   .   . <49>|\n",
            "----------+-------------------------+\n",
            "(row = reference; col = test)\n",
            "\n",
            "Context: [('international', 'NNP'), ('business', 'NNP'), ('machines', 'NNP'), ('corp', 'NNP'), ('.', '.'), ('is', 'VBZ'), ('using', 'VBG'), ('the', 'DT'), ('huge', 'JJ'), ('computer', 'NN'), ('trade', 'NN'), ('show', 'NN'), ('here', 'RB'), ('this', 'DT'), ('week', 'NN'), ('to', 'TO'), ('try', 'VB'), ('to', 'TO'), ('prove', 'VB'), ('a', 'DT'), ('much', 'RB'), ('disputed', 'VBN'), ('marketing', 'NN'), ('claim', 'NN'), ('of', 'IN'), ('the', 'DT'), ('past', 'JJ'), ('year', 'NN'), ('and', 'CC'), ('a', 'DT'), ('half', 'NN'), (':', ':'), ('that', 'IN'), ('its', 'PRP$'), ('ps', 'NNP'), 'FRASL', ('2', 'CD'), ('line', 'NN'), ('of', 'IN'), ('personal', 'JJ'), ('computers', 'NNS'), ('really', 'RB'), ('does', 'VBZ'), ('offer', 'NN'), ('unique', 'JJ'), ('benefits', 'NNS'), ('.', '.')]\n",
            "Correct sense: product\n",
            "Predicted sense: formation\n",
            "\n",
            "\n",
            "Context: [('international', 'NNP'), ('business', 'NNP'), ('machines', 'NNP'), ('corp', 'NNP'), ('.', '.'), ('said', 'VBD'), ('it', 'PRP'), ('has', 'VBZ'), ('asked', 'VBN'), ('computer-accessory', 'JJ'), ('makers', 'NNS'), ('to', 'TO'), ('produce', 'VB'), ('adaptor', 'NN'), ('cards', 'NNS'), ('for', 'IN'), ('its', 'PRP$'), ('ps', 'NNP'), 'FRASL', ('2', 'CD'), ('line', 'NN'), ('of', 'IN'), ('computers', 'NNS'), ('that', 'WDT'), ('will', 'MD'), ('enable', 'VB'), ('them', 'PRP'), ('to', 'TO'), ('transfer', 'VB'), ('data', 'NNS'), ('two', 'CD'), ('to', 'TO'), ('four', 'CD'), ('times', 'NNS'), ('faster', 'RBR'), ('than', 'IN'), ('they', 'PRP'), ('currently', 'RB'), ('do', 'VBP'), ('.', '.')]\n",
            "Correct sense: product\n",
            "Predicted sense: formation\n",
            "\n",
            "\n",
            "Context: [('the', 'DT'), ('center', 'NN'), ('said', 'VBD'), ('neither', 'DT'), ('tire', 'NN'), ('should', 'MD'), ('last', 'RB'), ('more', 'JJR'), ('than', 'IN'), ('10', 'CD'), (',', ','), ('000', 'CD'), ('miles', 'NNS'), ('on', 'IN'), ('average', 'NN'), ('.', '.'), ('but', 'CC'), ('a', 'DT'), ('spokeswoman', 'NN'), ('at', 'IN'), ('uniroyal', 'NNP'), ('goodrich', 'NNP'), ('said', 'VBD'), ('its', 'PRP$'), ('t', 'NN'), 'FRASL', ('a', 'DT'), ('r', 'NN'), ('and', 'CC'), ('r1', 'NNP'), ('lines', 'NNS'), ('are', 'VBP'), ('essentially', 'RB'), ('road-racing', 'JJ'), ('tires', 'NNS'), ('that', 'WDT'), ('aren', 'VBD'), (\"'t\", 'NN'), ('expected', 'VBN'), ('to', 'TO'), ('last', 'VB'), ('long', 'JJ'), ('.', '.')]\n",
            "Correct sense: product\n",
            "Predicted sense: formation\n",
            "\n",
            "\n",
            "Context: [('international', 'NNP'), ('business', 'NNP'), ('machines', 'NNP'), ('corp', 'NNP'), ('.', '.'), ('said', 'VBD'), ('its', 'PRP$'), ('personal', 'NNP'), ('system', 'NNP'), 'FRASL', ('2', 'CD'), ('line', 'NN'), ('of', 'IN'), ('personal', 'JJ'), ('computers', 'NNS'), ('appears', 'VBZ'), ('to', 'TO'), ('be', 'VB'), ('selling', 'VBG'), ('the', 'DT'), ('best', 'JJS'), ('in', 'IN'), ('europe', 'NNP'), ('.', '.')]\n",
            "Correct sense: product\n",
            "Predicted sense: formation\n",
            "\n",
            "\n",
            "Context: [('in', 'IN'), ('addition', 'NN'), ('to', 'TO'), ('the', 'DT'), ('knight-ridder-tribune', 'NNP'), ('and', 'CC'), ('scripps-howard', 'NNP'), ('wires', 'NNS'), (',', ','), ('the', 'DT'), ('other', 'JJ'), ('major', 'JJ'), ('news', 'NN'), ('wires', 'NNS'), ('operated', 'VBN'), ('by', 'IN'), ('newspapers', 'NNS'), ('are', 'VBP'), ('the', 'DT'), ('new', 'NNP'), ('york', 'NNP'), ('times', 'NNP'), ('news', 'NNP'), ('service', 'NNP'), (',', ','), ('and', 'CC'), ('los', 'NNP'), ('angeles', 'NNP'), ('times', 'NNP'), 'FRASL', ('washington', 'NNP'), ('post', 'NNP'), ('news', 'NNP'), ('service', 'NNP'), ('.', '.'), ('over', 'IN'), ('telephone', 'NN'), ('lines', 'NNS'), (',', ','), ('each', 'DT'), ('service', 'NN'), ('transmits', 'VBZ'), ('news', 'NN'), ('stories', 'NNS'), ('and', 'CC'), ('features', 'NNS'), ('to', 'TO'), ('subscribing', 'VBG'), ('newspapers', 'NNS'), ('.', '.')]\n",
            "Correct sense: phone\n",
            "Predicted sense: formation\n",
            "\n",
            "\n"
          ]
        }
      ]
    },
    {
      "cell_type": "code",
      "source": [
        "test_words(\"hard\", \"test\", vocab_size=300, window_size=13)"
      ],
      "metadata": {
        "colab": {
          "base_uri": "https://localhost:8080/"
        },
        "id": "JFDp6SrAd8SQ",
        "outputId": "057b9956-c5aa-45e8-fb5c-d2f84d972314"
      },
      "execution_count": null,
      "outputs": [
        {
          "output_type": "stream",
          "name": "stdout",
          "text": [
            "Reading data...\n",
            "Training data size:  2166\n",
            "Validation data size:  1517\n",
            "Test data size:  650\n"
          ]
        },
        {
          "output_type": "stream",
          "name": "stderr",
          "text": [
            "/usr/local/lib/python3.7/dist-packages/ipykernel_launcher.py:14: RuntimeWarning: divide by zero encountered in log\n",
            "  \n"
          ]
        },
        {
          "output_type": "stream",
          "name": "stdout",
          "text": [
            "Accuracy: 0.9984615384615385\n",
            "      |   H   H   H |\n",
            "      |   A   A   A |\n",
            "      |   R   R   R |\n",
            "      |   D   D   D |\n",
            "      |   1   2   3 |\n",
            "------+-------------+\n",
            "HARD1 |<525>  .   . |\n",
            "HARD2 |   1 <71>  . |\n",
            "HARD3 |   .   . <53>|\n",
            "------+-------------+\n",
            "(row = reference; col = test)\n",
            "\n",
            "Context: [('but', 'CC'), ('what', 'WP'), ('does', 'VBZ'), ('he', 'PRP'), ('get', 'VBP'), ('for', 'IN'), ('his', 'PRP$'), ('hard', 'JJ'), ('work', 'NN'), ('?', '.')]\n",
            "Correct sense: HARD2\n",
            "Predicted sense: HARD1\n",
            "\n",
            "\n"
          ]
        }
      ]
    },
    {
      "cell_type": "code",
      "source": [
        "test_words(\"serve\", \"test\", vocab_size=300, window_size=7)"
      ],
      "metadata": {
        "colab": {
          "base_uri": "https://localhost:8080/"
        },
        "id": "by4bFnSNeMZE",
        "outputId": "38b4ab60-c1e7-4147-ad54-18783412d7b4"
      },
      "execution_count": null,
      "outputs": [
        {
          "output_type": "stream",
          "name": "stdout",
          "text": [
            "Reading data...\n",
            "Training data size:  2189\n",
            "Validation data size:  1532\n",
            "Test data size:  657\n"
          ]
        },
        {
          "output_type": "stream",
          "name": "stderr",
          "text": [
            "/usr/local/lib/python3.7/dist-packages/ipykernel_launcher.py:14: RuntimeWarning: divide by zero encountered in log\n",
            "  \n"
          ]
        },
        {
          "output_type": "stream",
          "name": "stdout",
          "text": [
            "Accuracy: 0.9923896499238964\n",
            "        |   S   S         |\n",
            "        |   E   E   S   S |\n",
            "        |   R   R   E   E |\n",
            "        |   V   V   R   R |\n",
            "        |   E   E   V   V |\n",
            "        |   1   1   E   E |\n",
            "        |   0   2   2   6 |\n",
            "--------+-----------------+\n",
            "SERVE10 |<288>  .   5   . |\n",
            "SERVE12 |   .<177>  .   . |\n",
            " SERVE2 |   .   .<118>  . |\n",
            " SERVE6 |   .   .   . <69>|\n",
            "--------+-----------------+\n",
            "(row = reference; col = test)\n",
            "\n",
            "Context: [('cover', 'NNP'), ('the', 'DT'), ('pot', 'NN'), ('again', 'RB'), (',', ','), ('turn', 'VB'), ('flame', 'NN'), ('down', 'RB'), ('to', 'TO'), ('low', 'JJ'), (',', ','), ('and', 'CC'), ('continue', 'VB'), ('to', 'TO'), ('simmer', 'VB'), ('for', 'IN'), ('1', 'CD'), 'FRASL', ('2', 'CD'), ('hour', 'NN'), ('more', 'JJR'), ('.', '.'), ('fourth', 'NNP'), (':', ':'), ('just', 'RB'), ('before', 'IN'), ('serving', 'VBG'), (',', ','), ('remove', 'VB'), ('1', 'CD'), 'FRASL', ('2', 'CD'), ('cup', 'NN'), ('broth', 'NN'), ('to', 'TO'), ('a', 'DT'), ('teacup', 'NN'), (',', ','), ('add', 'VB'), ('1', 'CD'), 'FRASL', ('2', 'CD'), ('tablespoon', 'NN'), ('file', 'NN'), (',', ','), ('and', 'CC'), ('stir', 'VB'), ('with', 'IN'), ('a', 'DT'), ('teaspoon', 'NN'), ('until', 'IN'), ('smooth', 'JJ'), ('.', '.')]\n",
            "Correct sense: SERVE10\n",
            "Predicted sense: SERVE2\n",
            "\n",
            "\n",
            "Context: [('but', 'CC'), ('your', 'PRP$'), ('big', 'JJ'), ('question', 'NN'), ('there', 'EX'), ('is', 'VBZ'), (':', ':'), ('did', 'VBD'), ('the', 'DT'), ('students', 'NNS'), ('want', 'VBP'), ('that', 'IN'), ('of', 'IN'), ('him', 'PRP'), ('?', '.'), ('wouldn', 'JJ'), (\"'t\", 'NN'), ('they', 'PRP'), ('have', 'VBP'), ('come', 'VBN'), ('to', 'TO'), ('his', 'PRP$'), ('house', 'NN'), (',', ','), ('and', 'CC'), ('no', 'DT'), ('beer', 'NN'), ('served', 'VBD'), ('?', '.')]\n",
            "Correct sense: SERVE10\n",
            "Predicted sense: SERVE2\n",
            "\n",
            "\n",
            "Context: [('to', 'TO'), ('poach', 'VB'), ('eggs', 'NNS'), ('hard', 'JJ'), (',', ','), ('cook', 'NN'), ('them', 'PRP'), ('for', 'IN'), ('4-1', 'JJ'), 'FRASL', ('2', 'CD'), ('minutes', 'NNS'), ('.', '.'), ('these', 'DT'), ('are', 'VBP'), ('often', 'RB'), ('served', 'VBD'), ('cold', 'JJ'), ('in', 'IN'), ('aspic', 'JJ'), (',', ','), ('or', 'CC'), ('as', 'IN'), ('garnish', 'NN'), ('for', 'IN'), ('salad', 'NN'), ('platters', 'NNS'), ('.', '.')]\n",
            "Correct sense: SERVE10\n",
            "Predicted sense: SERVE2\n",
            "\n",
            "\n",
            "Context: [('bake', 'NNP'), ('at', 'IN'), ('dg375', 'CD'), ('till', 'IN'), ('set', 'VBN'), ('and', 'CC'), ('a', 'DT'), ('knife', 'NN'), ('comes', 'VBZ'), ('out', 'IN'), ('clean', 'JJ'), ('when', 'WRB'), ('inserted', 'VBN'), ('1-1', 'JJ'), 'FRASL', ('2', 'CD'), ('inches', 'NNS'), ('from', 'IN'), ('center', 'NN'), ('.', '.'), ('serve', 'VB'), ('warm', 'JJ'), (',', ','), ('in', 'IN'), ('wedges', 'NNS'), ('.', '.')]\n",
            "Correct sense: SERVE10\n",
            "Predicted sense: SERVE2\n",
            "\n",
            "\n",
            "Context: [('third', 'NNP'), (':', ':'), ('add', 'VB'), ('1', 'CD'), ('cup', 'NN'), ('chicken', 'NN'), ('broth', 'NN'), ('(', '('), ('page', 'NN'), ('11', 'CD'), (')', 'SYM'), (',', ','), ('stir', 'VB'), ('it', 'PRP'), ('into', 'IN'), ('the', 'DT'), ('pan', 'NN'), (',', ','), ('cover', 'VB'), (',', ','), ('and', 'CC'), ('simmer', 'VB'), ('for', 'IN'), ('1', 'CD'), 'FRASL', ('2', 'CD'), ('hour', 'NN'), ('.', '.'), ('serve', 'VB'), ('the', 'DT'), ('chicken', 'NN'), ('covered', 'VBN'), ('with', 'IN'), ('its', 'PRP$'), ('gravy', 'NN'), ('on', 'IN'), ('a', 'DT'), ('heated', 'VBN'), ('serving', 'VBG'), ('platter', 'JJ'), ('.', '.'), ('serve', 'VB'), ('with', 'IN'), ('boiled', 'VBN'), ('rice', 'NN'), ('(', '('), ('page', 'NN'), ('111', 'CD'), (')', 'SYM'), ('.', '.')]\n",
            "Correct sense: SERVE10\n",
            "Predicted sense: SERVE2\n",
            "\n",
            "\n"
          ]
        }
      ]
    },
    {
      "cell_type": "code",
      "source": [
        "test_words(\"interest\", \"test\", vocab_size=300, window_size=7)"
      ],
      "metadata": {
        "colab": {
          "base_uri": "https://localhost:8080/"
        },
        "id": "cbfuDWiMeXwT",
        "outputId": "a3ce8155-3cbd-4048-e4df-c2ea3a7e0361"
      },
      "execution_count": null,
      "outputs": [
        {
          "output_type": "stream",
          "name": "stdout",
          "text": [
            "Reading data...\n",
            "Training data size:  1184\n",
            "Validation data size:  828\n",
            "Test data size:  356\n"
          ]
        },
        {
          "output_type": "stream",
          "name": "stderr",
          "text": [
            "/usr/local/lib/python3.7/dist-packages/ipykernel_launcher.py:14: RuntimeWarning: divide by zero encountered in log\n",
            "  \n",
            "/usr/local/lib/python3.7/dist-packages/ipykernel_launcher.py:17: RuntimeWarning: invalid value encountered in true_divide\n"
          ]
        },
        {
          "output_type": "stream",
          "name": "stdout",
          "text": [
            "Accuracy: 0.9859550561797753\n",
            "           |   i   i   i   i   i   i |\n",
            "           |   n   n   n   n   n   n |\n",
            "           |   t   t   t   t   t   t |\n",
            "           |   e   e   e   e   e   e |\n",
            "           |   r   r   r   r   r   r |\n",
            "           |   e   e   e   e   e   e |\n",
            "           |   s   s   s   s   s   s |\n",
            "           |   t   t   t   t   t   t |\n",
            "           |   _   _   _   _   _   _ |\n",
            "           |   1   2   3   4   5   6 |\n",
            "-----------+-------------------------+\n",
            "interest_1 | <50>  .   .   .   .   1 |\n",
            "interest_2 |   .  <3>  .   .   .   . |\n",
            "interest_3 |   .   .  <7>  .   .   . |\n",
            "interest_4 |   .   .   . <29>  .   . |\n",
            "interest_5 |   .   1   .   . <88>  1 |\n",
            "interest_6 |   .   2   .   .   .<174>|\n",
            "-----------+-------------------------+\n",
            "(row = reference; col = test)\n",
            "\n",
            "Context: [('one', 'CD'), ('suit', 'NN'), (',', ','), ('filed', 'VBN'), ('by', 'IN'), ('more', 'JJR'), ('than', 'IN'), ('three', 'CD'), ('dozen', 'NN'), ('investors', 'NNS'), (',', ','), ('charges', 'VBZ'), ('that', 'DT'), ('mr', 'NN'), ('.', '.'), ('peterson', 'NN'), ('misused', 'VBD'), ('much', 'NN'), ('of', 'IN'), ('the', 'DT'), ('$', '$'), ('9', 'CD'), ('.', '.'), ('7', 'CD'), ('million', 'CD'), ('put', 'VB'), ('into', 'IN'), ('a', 'DT'), ('limited', 'JJ'), ('partnership', 'NN'), ('that', 'IN'), ('he', 'PRP'), ('operated', 'VBD'), ('and', 'CC'), ('promoted', 'VBN'), (',', ','), ('spending', 'VBG'), ('some', 'DT'), ('of', 'IN'), ('it', 'PRP'), ('to', 'TO'), ('pay', 'VB'), ('his', 'PRP$'), ('own', 'JJ'), ('legal', 'JJ'), ('bills', 'NNS'), ('and', 'CC'), ('to', 'TO'), ('invest', 'VB'), ('in', 'IN'), ('other', 'JJ'), ('companies', 'NNS'), ('in', 'IN'), ('which', 'WDT'), ('he', 'PRP'), ('had', 'VBD'), ('an', 'DT'), ('interest', 'NN'), ('.', '.')]\n",
            "Correct sense: interest_5\n",
            "Predicted sense: interest_6\n",
            "\n",
            "\n",
            "Context: [('mr', 'NN'), ('.', '.'), ('lawson', 'NN'), ('has', 'VBZ'), ('attacked', 'VBN'), ('this', 'DT'), ('problem', 'NN'), ('by', 'IN'), ('raising', 'VBG'), ('interest', 'NN'), ('rates', 'NNS'), ('so', 'RB'), ('consumers', 'NNS'), ('buy', 'VBP'), ('fewer', 'JJR'), ('goods', 'NNS'), ('from', 'IN'), ('abroad', 'RB'), ('.', '.')]\n",
            "Correct sense: interest_6\n",
            "Predicted sense: interest_2\n",
            "\n",
            "\n",
            "Context: [('artra', 'NN'), ('has', 'VBZ'), ('interests', 'NNS'), ('in', 'IN'), ('fashion', 'NN'), ('jewelry', 'NN'), ('and', 'CC'), ('assessories', 'NNS'), ('and', 'CC'), ('food-industry', 'NN'), ('supplies', 'NNS'), ('.', '.')]\n",
            "Correct sense: interest_5\n",
            "Predicted sense: interest_2\n",
            "\n",
            "\n",
            "Context: [('investor', 'NN'), ('interest', 'NN'), ('in', 'IN'), ('stock', 'NN'), ('funds', 'NNS'), ('``', '``'), ('has', 'VBZ'), ('n', 'NN'), (\"'t\", 'NN'), ('stalled', 'VBN'), ('at', 'IN'), ('all', 'DT'), (',', ','), (\"''\", \"''\"), ('mr', 'NN'), ('.', '.'), ('hines', 'NNS'), ('maintains', 'VBZ'), ('.', '.')]\n",
            "Correct sense: interest_1\n",
            "Predicted sense: interest_6\n",
            "\n",
            "\n",
            "Context: [('we', 'PRP'), ('analyzed', 'VBD'), ('a', 'DT'), ('sample', 'NN'), ('of', 'IN'), ('2', 'CD'), (',', ','), ('400', 'CD'), ('tax', 'NN'), ('returns', 'NNS'), ('filed', 'VBN'), ('between', 'IN'), ('1980', 'CD'), ('and', 'CC'), ('1984', 'CD'), (',', ','), ('expecting', 'VBG'), ('to', 'TO'), ('find', 'VB'), ('that', 'IN'), ('taxpayers', 'NNS'), ('who', 'WP'), ('opened', 'VBD'), ('iras', 'NNS'), ('during', 'IN'), ('1982-84', 'CD'), ('gradually', 'RB'), ('reduced', 'VBN'), ('their', 'PRP$'), ('reported', 'VBD'), ('interest', 'NN'), ('and', 'CC'), ('dividend', 'NN'), ('income', 'NN'), ('as', 'IN'), ('they', 'PRP'), ('shuffled', 'VBD'), ('assets', 'NNS'), ('out', 'IN'), ('of', 'IN'), ('taxable', 'JJ'), ('accounts', 'NNS'), ('and', 'CC'), ('into', 'IN'), ('iras', 'NNS'), ('.', '.')]\n",
            "Correct sense: interest_6\n",
            "Predicted sense: interest_2\n",
            "\n",
            "\n"
          ]
        }
      ]
    }
  ]
}